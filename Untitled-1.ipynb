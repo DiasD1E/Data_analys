{
 "cells": [
  {
   "cell_type": "code",
   "execution_count": 6,
   "metadata": {},
   "outputs": [
    {
     "name": "stdout",
     "output_type": "stream",
     "text": [
      "Общее количество строк: 32\n",
      "Количество строк и столбцов: (32, 12)\n",
      "<class 'pandas.core.frame.DataFrame'>\n",
      "RangeIndex: 32 entries, 0 to 31\n",
      "Data columns (total 12 columns):\n",
      " #   Column  Non-Null Count  Dtype  \n",
      "---  ------  --------------  -----  \n",
      " 0   model   32 non-null     object \n",
      " 1   mpg     32 non-null     float64\n",
      " 2   cyl     32 non-null     int64  \n",
      " 3   disp    32 non-null     float64\n",
      " 4   hp      32 non-null     int64  \n",
      " 5   drat    32 non-null     float64\n",
      " 6   wt      32 non-null     float64\n",
      " 7   qsec    32 non-null     float64\n",
      " 8   vs      32 non-null     int64  \n",
      " 9   am      32 non-null     int64  \n",
      " 10  gear    32 non-null     int64  \n",
      " 11  carb    32 non-null     int64  \n",
      "dtypes: float64(5), int64(6), object(1)\n",
      "memory usage: 3.1+ KB\n",
      "Уникальные модели автомобилей: ['Mazda RX4' 'Mazda RX4 Wag' 'Datsun 710' 'Hornet 4 Drive'\n",
      " 'Hornet Sportabout' 'Valiant' 'Duster 360' 'Merc 240D' 'Merc 230'\n",
      " 'Merc 280' 'Merc 280C' 'Merc 450SE' 'Merc 450SL' 'Merc 450SLC'\n",
      " 'Cadillac Fleetwood' 'Lincoln Continental' 'Chrysler Imperial' 'Fiat 128'\n",
      " 'Honda Civic' 'Toyota Corolla' 'Toyota Corona' 'Dodge Challenger'\n",
      " 'AMC Javelin' 'Camaro Z28' 'Pontiac Firebird' 'Fiat X1-9' 'Porsche 914-2'\n",
      " 'Lotus Europa' 'Ford Pantera L' 'Ferrari Dino' 'Maserati Bora'\n",
      " 'Volvo 142E']\n",
      "Самая дорогая машина:\n",
      "model    Toyota Corolla\n",
      "mpg                33.9\n",
      "cyl                   4\n",
      "disp               71.1\n",
      "hp                   65\n",
      "drat               4.22\n",
      "wt                1.835\n",
      "qsec               19.9\n",
      "vs                    1\n",
      "am                    1\n",
      "gear                  4\n",
      "carb                  1\n",
      "Name: 19, dtype: object\n"
     ]
    },
    {
     "name": "stderr",
     "output_type": "stream",
     "text": [
      "C:\\Users\\Dias\\AppData\\Local\\Temp\\ipykernel_2408\\195700082.py:13: UserWarning: pandas only supports SQLAlchemy connectable (engine/connection) or database string URI or sqlite3 DBAPI2 connection. Other DBAPI2 objects are not tested. Please consider using SQLAlchemy.\n",
      "  data = pd.read_sql_query(query, conn)\n"
     ]
    }
   ],
   "source": [
    "import psycopg2\n",
    "import pandas as pd\n",
    "import matplotlib.pyplot as plt\n",
    "\n",
    "conn = psycopg2.connect(\n",
    "    host=\"localhost\",\n",
    "    database=\"HAL\",\n",
    "    user=\"postgres\",\n",
    "    password=\"6996\"\n",
    ")\n",
    "\n",
    "query = \"SELECT * FROM car_data;\"\n",
    "data = pd.read_sql_query(query, conn)\n",
    "\n",
    "total_rows = len(data)\n",
    "total_rows_and_columns = data.shape\n",
    "print(\"Общее количество строк:\", total_rows)\n",
    "print(\"Количество строк и столбцов:\", total_rows_and_columns)\n",
    "\n",
    "data.info()\n",
    "\n",
    "unique_models = data['model'].unique()\n",
    "print(\"Уникальные модели автомобилей:\", unique_models)\n",
    "\n",
    "most_expensive_car = data.sort_values(by='mpg', ascending=False).iloc[0]\n",
    "print(\"Самая дорогая машина:\")\n",
    "print(most_expensive_car)\n",
    "\n",
    "conn.close()\n"
   ]
  }
 ],
 "metadata": {
  "kernelspec": {
   "display_name": "Python 3",
   "language": "python",
   "name": "python3"
  },
  "language_info": {
   "codemirror_mode": {
    "name": "ipython",
    "version": 3
   },
   "file_extension": ".py",
   "mimetype": "text/x-python",
   "name": "python",
   "nbconvert_exporter": "python",
   "pygments_lexer": "ipython3",
   "version": "3.11.0"
  },
  "orig_nbformat": 4,
  "vscode": {
   "interpreter": {
    "hash": "9793b2a9545cf2824512af72111ce1f0d759371675ed4e7c4ae44afd65226c3f"
   }
  }
 },
 "nbformat": 4,
 "nbformat_minor": 2
}
