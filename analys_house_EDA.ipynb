{
 "cells": [
  {
   "cell_type": "code",
   "execution_count": 1,
   "metadata": {},
   "outputs": [],
   "source": [
    "import psycopg2\n",
    "import pandas as pd\n",
    "import matplotlib.pyplot as plt\n",
    "\n",
    "conn = psycopg2.connect(\n",
    "    host=\"localhost\",\n",
    "    database=\"HAL\",\n",
    "    user=\"postgres\",\n",
    "    password=\"6996\"\n",
    ")\n"
   ]
  },
  {
   "cell_type": "code",
   "execution_count": 2,
   "metadata": {},
   "outputs": [
    {
     "name": "stderr",
     "output_type": "stream",
     "text": [
      "C:\\Users\\Dias\\AppData\\Local\\Temp\\ipykernel_3936\\1322385660.py:2: UserWarning: pandas only supports SQLAlchemy connectable (engine/connection) or database string URI or sqlite3 DBAPI2 connection. Other DBAPI2 objects are not tested. Please consider using SQLAlchemy.\n",
      "  data = pd.read_sql_query(query, conn)\n"
     ]
    },
    {
     "name": "stdout",
     "output_type": "stream",
     "text": [
      "Общее количество строк: 21612\n",
      "Количество строк и столбцов: (21612, 21)\n",
      "<class 'pandas.core.frame.DataFrame'>\n",
      "RangeIndex: 21612 entries, 0 to 21611\n",
      "Data columns (total 21 columns):\n",
      " #   Column         Non-Null Count  Dtype  \n",
      "---  ------         --------------  -----  \n",
      " 0   id             21612 non-null  int64  \n",
      " 1   date           21612 non-null  object \n",
      " 2   price          21612 non-null  float64\n",
      " 3   bedrooms       21612 non-null  int64  \n",
      " 4   bathrooms      21612 non-null  float64\n",
      " 5   sqft_living    21612 non-null  int64  \n",
      " 6   sqft_lot       21612 non-null  int64  \n",
      " 7   floors         21612 non-null  float64\n",
      " 8   waterfront     21612 non-null  int64  \n",
      " 9   view           21612 non-null  int64  \n",
      " 10  condition      21612 non-null  int64  \n",
      " 11  grade          21612 non-null  int64  \n",
      " 12  sqft_above     21612 non-null  int64  \n",
      " 13  sqft_basement  21612 non-null  int64  \n",
      " 14  yr_built       21612 non-null  int64  \n",
      " 15  yr_renovated   21612 non-null  int64  \n",
      " 16  zipcode        21612 non-null  int64  \n",
      " 17  lat            21612 non-null  float64\n",
      " 18  long           21612 non-null  float64\n",
      " 19  sqft_living15  21612 non-null  int64  \n",
      " 20  sqft_lot15     21612 non-null  int64  \n",
      "dtypes: float64(5), int64(15), object(1)\n",
      "memory usage: 3.5+ MB\n"
     ]
    }
   ],
   "source": [
    "query = \"SELECT * FROM house_data;\"\n",
    "data = pd.read_sql_query(query, conn)\n",
    "\n",
    "total_rows = len(data)\n",
    "total_rows_and_columns = data.shape\n",
    "print(\"Общее количество строк:\", total_rows)\n",
    "print(\"Количество строк и столбцов:\", total_rows_and_columns)\n",
    "\n",
    "data.info()\n"
   ]
  },
  {
   "cell_type": "code",
   "execution_count": 3,
   "metadata": {},
   "outputs": [
    {
     "name": "stdout",
     "output_type": "stream",
     "text": [
      "          bedrooms         price\n",
      "bedrooms                        \n",
      "0               13  4.102231e+05\n",
      "1              199  3.176580e+05\n",
      "2             2760  4.013877e+05\n",
      "3             9823  4.662528e+05\n",
      "4             6882  6.355647e+05\n",
      "5             1601  7.868741e+05\n",
      "6              272  8.258535e+05\n",
      "7               38  9.514478e+05\n",
      "8               13  1.105077e+06\n",
      "9                6  8.939998e+05\n",
      "10               3  8.200000e+05\n",
      "11               1  5.200000e+05\n",
      "33               1  6.400000e+05\n"
     ]
    }
   ],
   "source": [
    "\n",
    "avg_by_bedrooms = data.groupby('bedrooms').agg({'bedrooms': 'count', 'price': 'mean'})\n",
    "print(avg_by_bedrooms)\n"
   ]
  },
  {
   "cell_type": "code",
   "execution_count": 4,
   "metadata": {},
   "outputs": [
    {
     "name": "stdout",
     "output_type": "stream",
     "text": [
      "Самая дорогая квартира:\n",
      " id               6762700020\n",
      "date             2014-10-13\n",
      "price             7700000.0\n",
      "bedrooms                  6\n",
      "bathrooms               8.0\n",
      "sqft_living           12050\n",
      "sqft_lot              27600\n",
      "floors                  2.5\n",
      "waterfront                0\n",
      "view                      3\n",
      "condition                 4\n",
      "grade                    13\n",
      "sqft_above             8570\n",
      "sqft_basement          3480\n",
      "yr_built               1910\n",
      "yr_renovated           1987\n",
      "zipcode               98102\n",
      "lat                 47.6298\n",
      "long               -122.323\n",
      "sqft_living15          3940\n",
      "sqft_lot15             8800\n",
      "Name: 7251, dtype: object\n"
     ]
    }
   ],
   "source": [
    "\n",
    "most_expensive_apartment = data.loc[data['price'].idxmax()]\n",
    "print(\"Самая дорогая квартира:\\n\", most_expensive_apartment)\n"
   ]
  },
  {
   "cell_type": "code",
   "execution_count": 5,
   "metadata": {},
   "outputs": [
    {
     "name": "stdout",
     "output_type": "stream",
     "text": [
      "                 id         price      bedrooms     bathrooms   sqft_living   \n",
      "count  2.161200e+04  2.161200e+04  21612.000000  21612.000000  21612.000000  \\\n",
      "mean   4.580235e+09  5.401748e+05      3.370859      2.114786   2079.922867   \n",
      "std    2.876615e+09  3.673691e+05      0.930080      0.770170    918.455851   \n",
      "min    1.000102e+06  7.500000e+04      0.000000      0.000000    290.000000   \n",
      "25%    2.123049e+09  3.218375e+05      3.000000      1.750000   1426.500000   \n",
      "50%    3.904930e+09  4.500000e+05      3.000000      2.250000   1910.000000   \n",
      "75%    7.308900e+09  6.450000e+05      4.000000      2.500000   2550.000000   \n",
      "max    9.900000e+09  7.700000e+06     33.000000      8.000000  13540.000000   \n",
      "\n",
      "           sqft_lot        floors    waterfront          view     condition   \n",
      "count  2.161200e+04  21612.000000  21612.000000  21612.000000  21612.000000  \\\n",
      "mean   1.510744e+04      1.494332      0.007542      0.234314      3.409448   \n",
      "std    4.142141e+04      0.539991      0.086519      0.766334      0.650752   \n",
      "min    5.200000e+02      1.000000      0.000000      0.000000      1.000000   \n",
      "25%    5.040000e+03      1.000000      0.000000      0.000000      3.000000   \n",
      "50%    7.619000e+03      1.500000      0.000000      0.000000      3.000000   \n",
      "75%    1.068825e+04      2.000000      0.000000      0.000000      4.000000   \n",
      "max    1.651359e+06      3.500000      1.000000      4.000000      5.000000   \n",
      "\n",
      "              grade    sqft_above  sqft_basement      yr_built  yr_renovated   \n",
      "count  21612.000000  21612.000000   21612.000000  21612.000000  21612.000000  \\\n",
      "mean       7.656857   1788.413752     291.509115   1971.006617     84.406163   \n",
      "std        1.175484    828.103196     442.585282     29.373284    401.688123   \n",
      "min        1.000000    290.000000       0.000000   1900.000000      0.000000   \n",
      "25%        7.000000   1190.000000       0.000000   1951.000000      0.000000   \n",
      "50%        7.000000   1560.000000       0.000000   1975.000000      0.000000   \n",
      "75%        8.000000   2210.000000     560.000000   1997.000000      0.000000   \n",
      "max       13.000000   9410.000000    4820.000000   2015.000000   2015.000000   \n",
      "\n",
      "            zipcode           lat          long  sqft_living15     sqft_lot15  \n",
      "count  21612.000000  21612.000000  21612.000000   21612.000000   21612.000000  \n",
      "mean   98077.937997     47.560047   -122.213888    1986.571766   12768.838238  \n",
      "std       53.505604      0.138564      0.140827     685.401304   27304.753411  \n",
      "min    98001.000000     47.155900   -122.519000     399.000000     651.000000  \n",
      "25%    98033.000000     47.470975   -122.328000    1490.000000    5100.000000  \n",
      "50%    98065.000000     47.571800   -122.230000    1840.000000    7620.000000  \n",
      "75%    98118.000000     47.678000   -122.125000    2360.000000   10083.250000  \n",
      "max    98199.000000     47.777600   -121.315000    6210.000000  871200.000000  \n"
     ]
    }
   ],
   "source": [
    "\n",
    "print(data.describe())\n"
   ]
  },
  {
   "cell_type": "code",
   "execution_count": 6,
   "metadata": {},
   "outputs": [
    {
     "name": "stdout",
     "output_type": "stream",
     "text": [
      "           id        date     price  bedrooms  bathrooms  sqft_living   \n",
      "0  7129300520  2014-10-13  221900.0         3       1.00         1180  \\\n",
      "1  6414100192  2014-12-09  538000.0         3       2.25         2570   \n",
      "2  5631500400  2015-02-25  180000.0         2       1.00          770   \n",
      "3  2487200875  2014-12-09  604000.0         4       3.00         1960   \n",
      "4  1954400510  2015-02-18  510000.0         3       2.00         1680   \n",
      "\n",
      "   sqft_lot  floors  waterfront  view  ...  grade  sqft_above  sqft_basement   \n",
      "0      5650     1.0           0     0  ...      7        1180              0  \\\n",
      "1      7242     2.0           0     0  ...      7        2170            400   \n",
      "2     10000     1.0           0     0  ...      6         770              0   \n",
      "3      5000     1.0           0     0  ...      7        1050            910   \n",
      "4      8080     1.0           0     0  ...      8        1680              0   \n",
      "\n",
      "   yr_built  yr_renovated  zipcode      lat     long  sqft_living15   \n",
      "0      1955             0    98178  47.5112 -122.257           1340  \\\n",
      "1      1951          1991    98125  47.7210 -122.319           1690   \n",
      "2      1933             0    98028  47.7379 -122.233           2720   \n",
      "3      1965             0    98136  47.5208 -122.393           1360   \n",
      "4      1987             0    98074  47.6168 -122.045           1800   \n",
      "\n",
      "   sqft_lot15  \n",
      "0        5650  \n",
      "1        7639  \n",
      "2        8062  \n",
      "3        5000  \n",
      "4        7503  \n",
      "\n",
      "[5 rows x 21 columns]\n",
      "               id        date     price  bedrooms  bathrooms  sqft_living   \n",
      "21607   263000018  2014-05-21  360000.0         3       2.50         1530  \\\n",
      "21608  6600060120  2015-02-23  400000.0         4       2.50         2310   \n",
      "21609  1523300141  2014-06-23  402101.0         2       0.75         1020   \n",
      "21610   291310100  2015-01-16  400000.0         3       2.50         1600   \n",
      "21611  1523300157  2014-10-15  325000.0         2       0.75         1020   \n",
      "\n",
      "       sqft_lot  floors  waterfront  view  ...  grade  sqft_above   \n",
      "21607      1131     3.0           0     0  ...      8        1530  \\\n",
      "21608      5813     2.0           0     0  ...      8        2310   \n",
      "21609      1350     2.0           0     0  ...      7        1020   \n",
      "21610      2388     2.0           0     0  ...      8        1600   \n",
      "21611      1076     2.0           0     0  ...      7        1020   \n",
      "\n",
      "       sqft_basement  yr_built  yr_renovated  zipcode      lat     long   \n",
      "21607              0      2009             0    98103  47.6993 -122.346  \\\n",
      "21608              0      2014             0    98146  47.5107 -122.362   \n",
      "21609              0      2009             0    98144  47.5944 -122.299   \n",
      "21610              0      2004             0    98027  47.5345 -122.069   \n",
      "21611              0      2008             0    98144  47.5941 -122.299   \n",
      "\n",
      "       sqft_living15  sqft_lot15  \n",
      "21607           1530        1509  \n",
      "21608           1830        7200  \n",
      "21609           1020        2007  \n",
      "21610           1410        1287  \n",
      "21611           1020        1357  \n",
      "\n",
      "[5 rows x 21 columns]\n"
     ]
    }
   ],
   "source": [
    "\n",
    "print(data.head())  # Первые 5 строк\n",
    "print(data.tail())  # Последние 5 строк\n"
   ]
  },
  {
   "cell_type": "code",
   "execution_count": 7,
   "metadata": {},
   "outputs": [
    {
     "data": {
      "image/png": "[encoded data removed]",
      "text/plain": [
       "<Figure size 640x480 with 1 Axes>"
      ]
     },
     "metadata": {},
     "output_type": "display_data"
    }
   ],
   "source": [
    "\n",
    "\n",
    "# Визуализация данных:\n",
    "prices = data['price']\n",
    "\n",
    "# Создаем гистограмму\n",
    "plt.hist(prices, bins=20, color='blue')  \n",
    "plt.xlabel('Цена')\n",
    "plt.ylabel('Частота')\n",
    "plt.title('Гистограмма цен на квартиры')\n",
    "plt.show()\n",
    "\n",
    "\n",
    "conn.close()\n"
   ]
  }
 ],
 "metadata": {
  "kernelspec": {
   "display_name": "Python 3",
   "language": "python",
   "name": "python3"
  },
  "language_info": {
   "codemirror_mode": {
    "name": "ipython",
    "version": 3
   },
   "file_extension": ".py",
   "mimetype": "text/x-python",
   "name": "python",
   "nbconvert_exporter": "python",
   "pygments_lexer": "ipython3",
   "version": "3.11.0"
  },
  "orig_nbformat": 4,
  "vscode": {
   "interpreter": {
    "hash": "9793b2a9545cf2824512af72111ce1f0d759371675ed4e7c4ae44afd65226c3f"
   }
  }
 },
 "nbformat": 4,
 "nbformat_minor": 2
}
